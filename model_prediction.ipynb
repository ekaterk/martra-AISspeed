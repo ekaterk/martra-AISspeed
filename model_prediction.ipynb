{
 "cells": [
  {
   "cell_type": "markdown",
   "metadata": {
    "id": "_Rp1ZyXT85FN"
   },
   "source": [
    "This is an example of how one can use the tree-based model for speed predictions. The model used here is the seasonal date-time variant of the XGBoost model developed in the paper by by Rao,P., Kim, E., Smestad, B.B., Asbjørnslett, B.E. and Bhattacharyya, A. (2021) *Predicting vessel speed in Arctic without knowing ice conditions using AIS data and decision trees*, Maritime Transport Research. "
   ]
  },
  {
   "cell_type": "markdown",
   "metadata": {
    "id": "x1WbfHSc9yzs"
   },
   "source": [
    "We will use a synteticly generated test voyage for demonstration. To learn how to prepare a dataset for this prediction, visit the model_implementation notebook. "
   ]
  },
  {
   "cell_type": "code",
   "execution_count": 1,
   "metadata": {
    "id": "-x9xjurk8iK8"
   },
   "outputs": [],
   "source": [
    "import pandas as pd\n",
    "import numpy as np"
   ]
  },
  {
   "cell_type": "code",
   "execution_count": 2,
   "metadata": {
    "id": "TxBSWi69CNSU"
   },
   "outputs": [
    {
     "data": {
      "text/html": [
       "<div>\n",
       "<style scoped>\n",
       "    .dataframe tbody tr th:only-of-type {\n",
       "        vertical-align: middle;\n",
       "    }\n",
       "\n",
       "    .dataframe tbody tr th {\n",
       "        vertical-align: top;\n",
       "    }\n",
       "\n",
       "    .dataframe thead th {\n",
       "        text-align: right;\n",
       "    }\n",
       "</style>\n",
       "<table border=\"1\" class=\"dataframe\">\n",
       "  <thead>\n",
       "    <tr style=\"text-align: right;\">\n",
       "      <th></th>\n",
       "      <th>sog</th>\n",
       "      <th>latitude</th>\n",
       "      <th>longitude</th>\n",
       "      <th>Daylight</th>\n",
       "      <th>Route</th>\n",
       "      <th>Port_Distance</th>\n",
       "      <th>Strait_Distance</th>\n",
       "      <th>Oblast_Distance</th>\n",
       "      <th>Vilkitsky_Distance</th>\n",
       "      <th>season</th>\n",
       "    </tr>\n",
       "  </thead>\n",
       "  <tbody>\n",
       "    <tr>\n",
       "      <th>0</th>\n",
       "      <td>0.5</td>\n",
       "      <td>71.279938</td>\n",
       "      <td>72.091477</td>\n",
       "      <td>0.0</td>\n",
       "      <td>1</td>\n",
       "      <td>1.002142</td>\n",
       "      <td>511.853165</td>\n",
       "      <td>640.587551</td>\n",
       "      <td>1143.806917</td>\n",
       "      <td>1</td>\n",
       "    </tr>\n",
       "    <tr>\n",
       "      <th>1</th>\n",
       "      <td>0.3</td>\n",
       "      <td>71.279958</td>\n",
       "      <td>72.091318</td>\n",
       "      <td>0.0</td>\n",
       "      <td>1</td>\n",
       "      <td>0.999975</td>\n",
       "      <td>511.847653</td>\n",
       "      <td>640.584542</td>\n",
       "      <td>1143.808515</td>\n",
       "      <td>1</td>\n",
       "    </tr>\n",
       "    <tr>\n",
       "      <th>2</th>\n",
       "      <td>0.0</td>\n",
       "      <td>71.279983</td>\n",
       "      <td>72.091218</td>\n",
       "      <td>0.0</td>\n",
       "      <td>1</td>\n",
       "      <td>0.999645</td>\n",
       "      <td>511.844253</td>\n",
       "      <td>640.581280</td>\n",
       "      <td>1143.808422</td>\n",
       "      <td>1</td>\n",
       "    </tr>\n",
       "    <tr>\n",
       "      <th>3</th>\n",
       "      <td>0.1</td>\n",
       "      <td>71.279965</td>\n",
       "      <td>72.091088</td>\n",
       "      <td>0.0</td>\n",
       "      <td>1</td>\n",
       "      <td>0.995028</td>\n",
       "      <td>511.839501</td>\n",
       "      <td>640.582636</td>\n",
       "      <td>1143.812832</td>\n",
       "      <td>1</td>\n",
       "    </tr>\n",
       "    <tr>\n",
       "      <th>4</th>\n",
       "      <td>1.1</td>\n",
       "      <td>71.279463</td>\n",
       "      <td>72.091212</td>\n",
       "      <td>0.0</td>\n",
       "      <td>1</td>\n",
       "      <td>0.957254</td>\n",
       "      <td>511.840613</td>\n",
       "      <td>640.638493</td>\n",
       "      <td>1143.854917</td>\n",
       "      <td>1</td>\n",
       "    </tr>\n",
       "  </tbody>\n",
       "</table>\n",
       "</div>"
      ],
      "text/plain": [
       "   sog   latitude  longitude  Daylight  Route  Port_Distance  Strait_Distance  \\\n",
       "0  0.5  71.279938  72.091477       0.0      1       1.002142       511.853165   \n",
       "1  0.3  71.279958  72.091318       0.0      1       0.999975       511.847653   \n",
       "2  0.0  71.279983  72.091218       0.0      1       0.999645       511.844253   \n",
       "3  0.1  71.279965  72.091088       0.0      1       0.995028       511.839501   \n",
       "4  1.1  71.279463  72.091212       0.0      1       0.957254       511.840613   \n",
       "\n",
       "   Oblast_Distance  Vilkitsky_Distance  season  \n",
       "0       640.587551         1143.806917       1  \n",
       "1       640.584542         1143.808515       1  \n",
       "2       640.581280         1143.808422       1  \n",
       "3       640.582636         1143.812832       1  \n",
       "4       640.638493         1143.854917       1  "
      ]
     },
     "execution_count": 2,
     "metadata": {},
     "output_type": "execute_result"
    }
   ],
   "source": [
    "ais_df = pd.read_csv('datasets/Test_voyage.csv')\n",
    "ais_df.head()"
   ]
  },
  {
   "cell_type": "markdown",
   "metadata": {
    "id": "I0hiie9RCG0J"
   },
   "source": [
    "Except sog, these are the features that the machine-learning model will use in order to generate predictions. Please note that any test set must have these features in the same order in order to generate a valid prediction. "
   ]
  },
  {
   "cell_type": "markdown",
   "metadata": {
    "id": "cf8LvVM2DXsb"
   },
   "source": [
    "The model developed during the study has its weight saved in a pickel.dat file in the models folder. In order to reconstruct the model from this file, we use the pickle module."
   ]
  },
  {
   "cell_type": "code",
   "execution_count": 3,
   "metadata": {
    "id": "iZoxakBQCHR2"
   },
   "outputs": [
    {
     "name": "stdout",
     "output_type": "stream",
     "text": [
      "[22:48:06] WARNING: /workspace/src/objective/regression_obj.cu:152: reg:linear is now deprecated in favor of reg:squarederror.\n"
     ]
    }
   ],
   "source": [
    "import pickle\n",
    "xgb_model_loaded = pickle.load(open('models/pima.pickle.dat', \"rb\"))"
   ]
  },
  {
   "cell_type": "markdown",
   "metadata": {
    "id": "mcTHhmFZEPww"
   },
   "source": [
    "Once the model is loaded, we can begin the prediction process. To begin, we seperate the 'sog' column from the test set. We will use this later to measure the accuracy of our predictions."
   ]
  },
  {
   "cell_type": "code",
   "execution_count": 4,
   "metadata": {
    "id": "4v7zjkD_CODF"
   },
   "outputs": [],
   "source": [
    "test_y = ais_df.sog\n",
    "test_x = ais_df.drop('sog', axis = 1)"
   ]
  },
  {
   "cell_type": "markdown",
   "metadata": {
    "id": "_jiRfZ4FE98a"
   },
   "source": [
    "Now, we use the model loaded from the pickle.dat file to begin predicting. This is performed via the predict() in the xgboost module. This function returns a list of predictions.\n",
    "\n",
    "Upon generating predictions, we can now compare the predicted values with the actual values. The metrics used in this case are the Mean-Absolute-Error and the R2-Score.\n",
    "\n"
   ]
  },
  {
   "cell_type": "code",
   "execution_count": 5,
   "metadata": {
    "id": "kwnrCIqjCOKR"
   },
   "outputs": [
    {
     "name": "stdout",
     "output_type": "stream",
     "text": [
      "0.17953902945822642 2.4861311773482657\n"
     ]
    }
   ],
   "source": [
    "from sklearn.metrics import r2_score,mean_absolute_error\n",
    "\n",
    "y_pred = xgb_model_loaded.predict(test_x)\n",
    "print(r2_score(test_y,y_pred),mean_absolute_error(test_y,y_pred))"
   ]
  },
  {
   "cell_type": "markdown",
   "metadata": {
    "id": "EJrfs3rAGOwM"
   },
   "source": [
    "The scores generated are well within the expected values of the model. To visualise the accuracy, we can generate a speed-distance plot of the voyage. Through this plot we can identify the regions in which our predictions behave differently."
   ]
  },
  {
   "cell_type": "markdown",
   "metadata": {
    "id": "PteTlwVDIhZX"
   },
   "source": [
    "To create the speed-distance plot, we generate a list named 'distance' which measures the distance covered by the vessel upto that point in the voyage. We then plot the result using the matplotlib library."
   ]
  },
  {
   "cell_type": "code",
   "execution_count": 6,
   "metadata": {},
   "outputs": [],
   "source": [
    "from math import sin, cos, sqrt, atan2, radians\n",
    "\n",
    "# approximate radius of earth in km\n",
    "def lat_long_dist(lati1,long1,lati2,long2):\n",
    "    R = 6373.0\n",
    "    lat1 = radians(lati1)\n",
    "    lon1 = radians(long1)\n",
    "    lat2 = radians(lati2)\n",
    "    lon2 = radians(long2)\n",
    "\n",
    "    dlon = lon2 - lon1\n",
    "    dlat = lat2 - lat1\n",
    "\n",
    "    a = sin(dlat / 2)**2 + cos(lat1) * cos(lat2) * sin(dlon / 2)**2\n",
    "    c = 2 * atan2(sqrt(a), sqrt(1 - a))\n",
    "\n",
    "    distance = R * c\n",
    "    return distance"
   ]
  },
  {
   "cell_type": "code",
   "execution_count": 7,
   "metadata": {
    "id": "hTbnzKqkJHxE"
   },
   "outputs": [],
   "source": [
    "distance = [0]\n",
    "c = 0\n",
    "\n",
    "for i in range(1,len(test_x)):\n",
    "    distance.append(distance[c] + lat_long_dist(test_x.loc[i-1, 'latitude'],test_x.loc[i-1, 'longitude'],test_x.loc[i, 'latitude'],test_x.loc[i, 'longitude']))\n",
    "    c = c + 1"
   ]
  },
  {
   "cell_type": "code",
   "execution_count": 10,
   "metadata": {
    "id": "gL_5fjuFJMy6"
   },
   "outputs": [
    {
     "data": {
      "image/png": "[encoded data removed]",
      "text/plain": [
       "<Figure size 576x288 with 1 Axes>"
      ]
     },
     "metadata": {
      "needs_background": "light"
     },
     "output_type": "display_data"
    }
   ],
   "source": [
    "import matplotlib.pyplot as plt\n",
    "plt.figure(figsize = (8,4))\n",
    "plt.xlabel(\"distance in km\")\n",
    "plt.ylabel(\"speed in knots\")\n",
    "plt.plot(distance,test_y, label = \"data\")\n",
    "plt.plot(distance,y_pred,color = 'r',label = \"XGBoost\")\n",
    "plt.legend()\n",
    "plt.show()"
   ]
  },
  {
   "cell_type": "code",
   "execution_count": null,
   "metadata": {},
   "outputs": [],
   "source": []
  }
 ],
 "metadata": {
  "colab": {
   "name": "Untitled3.ipynb",
   "provenance": []
  },
  "kernelspec": {
   "display_name": "Python 3",
   "language": "python",
   "name": "python3"
  },
  "language_info": {
   "codemirror_mode": {
    "name": "ipython",
    "version": 3
   },
   "file_extension": ".py",
   "mimetype": "text/x-python",
   "name": "python",
   "nbconvert_exporter": "python",
   "pygments_lexer": "ipython3",
   "version": "3.7.3"
  }
 },
 "nbformat": 4,
 "nbformat_minor": 4
}
